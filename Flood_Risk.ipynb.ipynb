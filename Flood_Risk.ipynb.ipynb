{
  "nbformat": 4,
  "nbformat_minor": 0,
  "metadata": {
    "colab": {
      "provenance": []
    },
    "kernelspec": {
      "name": "python3",
      "display_name": "Python 3"
    },
    "language_info": {
      "name": "python"
    }
  },
  "cells": [
    {
      "cell_type": "code",
      "execution_count": 3,
      "metadata": {
        "id": "Y7Y9Pjnik96x"
      },
      "outputs": [],
      "source": [
        "import pandas as pd\n",
        "import numpy as np\n",
        "import matplotlib.pyplot as plt\n",
        "import seaborn as sns\n"
      ]
    },
    {
      "cell_type": "code",
      "source": [
        "data = pd.read_csv(\"/content/flood_risk_dataset.csv\")"
      ],
      "metadata": {
        "id": "sSrLj4p9nQZR"
      },
      "execution_count": 4,
      "outputs": []
    },
    {
      "cell_type": "code",
      "source": [
        "print(data.head)"
      ],
      "metadata": {
        "colab": {
          "base_uri": "https://localhost:8080/"
        },
        "collapsed": true,
        "id": "cgmnQZcAnhUN",
        "outputId": "fd374546-8124-4980-c59f-24492990a320"
      },
      "execution_count": 5,
      "outputs": [
        {
          "output_type": "stream",
          "name": "stdout",
          "text": [
            "<bound method NDFrame.head of        Latitude  Longitude  Rainfall (mm)  Temperature (°C)  Humidity (%)  \\\n",
            "0     18.861663  78.835584     218.999493         34.144337     43.912963   \n",
            "1     35.570715  77.654451      55.353599         28.778774     27.585422   \n",
            "2     29.227824  73.108463     103.991908         43.934956     30.108738   \n",
            "3     25.361096  85.610733     198.984191         21.569354     34.453690   \n",
            "4     12.524541  81.822101     144.626803         32.635692     36.292267   \n",
            "...         ...        ...            ...               ...           ...   \n",
            "9995  32.872024  93.434120     285.682635         37.621017     69.795616   \n",
            "9996  34.027756  69.357605     224.347263         37.935808     38.095486   \n",
            "9997  35.454530  76.807256       5.836759         23.087083     79.919607   \n",
            "9998  19.527152  80.856280     120.301453         28.029593     61.680873   \n",
            "9999  14.297072  72.995680      77.219394         29.622711     88.936537   \n",
            "\n",
            "      River Discharge (m³/s)  Water Level (m)  Elevation (m)    Land Cover  \\\n",
            "0                4236.182888         7.415552     377.465433    Water Body   \n",
            "1                2472.585219         8.811019    7330.608875        Forest   \n",
            "2                 977.328053         4.631799    2205.873488  Agricultural   \n",
            "3                3683.208933         2.891787    2512.277800        Desert   \n",
            "4                2093.390678         3.188466    2001.818223  Agricultural   \n",
            "...                      ...              ...            ...           ...   \n",
            "9995             4830.703665         5.943965    2850.197900  Agricultural   \n",
            "9996             1866.199787         9.466158    3314.692947        Forest   \n",
            "9997             1523.374305         9.209185    3377.296962        Desert   \n",
            "9998             2036.812638         2.004644    1146.986151    Water Body   \n",
            "9999             2614.166967         0.991856    8381.595028        Desert   \n",
            "\n",
            "     Soil Type  Population Density  Infrastructure  Historical Floods  \\\n",
            "0         Clay         7276.742184               1                  0   \n",
            "1         Peat         6897.736956               0                  1   \n",
            "2         Loam         4361.518494               1                  1   \n",
            "3        Sandy         6163.069701               1                  1   \n",
            "4         Loam         6167.964591               1                  0   \n",
            "...        ...                 ...             ...                ...   \n",
            "9995      Clay         6943.559433               0                  0   \n",
            "9996      Clay         3011.997459               1                  0   \n",
            "9997      Clay         7149.938303               1                  0   \n",
            "9998     Sandy          906.031452               1                  0   \n",
            "9999      Clay         4530.770301               1                  1   \n",
            "\n",
            "      Flood Occurred  \n",
            "0                  1  \n",
            "1                  0  \n",
            "2                  1  \n",
            "3                  0  \n",
            "4                  0  \n",
            "...              ...  \n",
            "9995               0  \n",
            "9996               0  \n",
            "9997               1  \n",
            "9998               1  \n",
            "9999               1  \n",
            "\n",
            "[10000 rows x 14 columns]>\n"
          ]
        }
      ]
    },
    {
      "cell_type": "code",
      "source": [
        "print(\"Dataset Info::\\n\")\n",
        "print(data.info())"
      ],
      "metadata": {
        "colab": {
          "base_uri": "https://localhost:8080/"
        },
        "collapsed": true,
        "id": "hTk2QPMCn7f6",
        "outputId": "41775098-3586-4e4d-aea4-22ea6cdc6828"
      },
      "execution_count": 11,
      "outputs": [
        {
          "output_type": "stream",
          "name": "stdout",
          "text": [
            "Dataset Info::\n",
            "\n",
            "<class 'pandas.core.frame.DataFrame'>\n",
            "RangeIndex: 10000 entries, 0 to 9999\n",
            "Data columns (total 14 columns):\n",
            " #   Column                  Non-Null Count  Dtype  \n",
            "---  ------                  --------------  -----  \n",
            " 0   Latitude                10000 non-null  float64\n",
            " 1   Longitude               10000 non-null  float64\n",
            " 2   Rainfall (mm)           10000 non-null  float64\n",
            " 3   Temperature (°C)        10000 non-null  float64\n",
            " 4   Humidity (%)            10000 non-null  float64\n",
            " 5   River Discharge (m³/s)  10000 non-null  float64\n",
            " 6   Water Level (m)         10000 non-null  float64\n",
            " 7   Elevation (m)           10000 non-null  float64\n",
            " 8   Land Cover              10000 non-null  object \n",
            " 9   Soil Type               10000 non-null  object \n",
            " 10  Population Density      10000 non-null  float64\n",
            " 11  Infrastructure          10000 non-null  int64  \n",
            " 12  Historical Floods       10000 non-null  int64  \n",
            " 13  Flood Occurred          10000 non-null  int64  \n",
            "dtypes: float64(9), int64(3), object(2)\n",
            "memory usage: 1.1+ MB\n",
            "None\n"
          ]
        }
      ]
    },
    {
      "cell_type": "code",
      "source": [
        "print(\"\\n Dataset Describe::\\n\")\n",
        "print(data.describe())"
      ],
      "metadata": {
        "colab": {
          "base_uri": "https://localhost:8080/"
        },
        "collapsed": true,
        "id": "BqrxVKkXoyOl",
        "outputId": "d4908216-9290-4971-d2bb-68a54eb3c5c1"
      },
      "execution_count": 13,
      "outputs": [
        {
          "output_type": "stream",
          "name": "stdout",
          "text": [
            "\n",
            " Dataset Describe::\n",
            "\n",
            "           Latitude     Longitude  Rainfall (mm)  Temperature (°C)  \\\n",
            "count  10000.000000  10000.000000   10000.000000      10000.000000   \n",
            "mean      22.330627     82.631366     150.015118         29.961401   \n",
            "std        8.341274      8.389542      86.032127          8.669838   \n",
            "min        8.000337     68.004575       0.014437         15.000166   \n",
            "25%       15.143537     75.364428      76.124373         22.405717   \n",
            "50%       22.283330     82.671007     150.620428         30.000907   \n",
            "75%       29.460184     89.937897     223.402156         37.413488   \n",
            "max       36.991813     96.997820     299.970293         44.993681   \n",
            "\n",
            "       Humidity (%)  River Discharge (m³/s)  Water Level (m)  Elevation (m)  \\\n",
            "count  10000.000000            10000.000000     10000.000000   10000.000000   \n",
            "mean      59.749104             2515.722946         5.017881    4417.138177   \n",
            "std       23.142734             1441.706442         2.876579    2530.245421   \n",
            "min       20.001339                0.042161         0.002701       1.150340   \n",
            "25%       39.541778             1284.782376         2.538847    2229.681903   \n",
            "50%       59.497375             2530.451944         5.042094    4417.199761   \n",
            "75%       80.038163             3767.229862         7.524692    6616.729066   \n",
            "max       99.997772             4999.698480         9.996899    8846.894877   \n",
            "\n",
            "       Population Density  Infrastructure  Historical Floods  Flood Occurred  \n",
            "count        10000.000000    10000.000000       10000.000000    10000.000000  \n",
            "mean          5021.468442        0.502000           0.498700        0.505700  \n",
            "std           2882.591520        0.500021           0.500023        0.499993  \n",
            "min              2.289000        0.000000           0.000000        0.000000  \n",
            "25%           2491.766601        0.000000           0.000000        0.000000  \n",
            "50%           5074.392879        1.000000           0.000000        1.000000  \n",
            "75%           7474.228752        1.000000           1.000000        1.000000  \n",
            "max           9999.169530        1.000000           1.000000        1.000000  \n"
          ]
        }
      ]
    },
    {
      "cell_type": "code",
      "source": [
        "print(\"\\n Missing Values Count::\\n\")\n",
        "print(data.isnull().sum())"
      ],
      "metadata": {
        "colab": {
          "base_uri": "https://localhost:8080/"
        },
        "collapsed": true,
        "id": "-_aS4ltPpLvK",
        "outputId": "9fed010c-370f-4a24-81ba-9e322d535868"
      },
      "execution_count": 10,
      "outputs": [
        {
          "output_type": "stream",
          "name": "stdout",
          "text": [
            "\n",
            " Missing Values Count::\n",
            "\n",
            "Latitude                  0\n",
            "Longitude                 0\n",
            "Rainfall (mm)             0\n",
            "Temperature (°C)          0\n",
            "Humidity (%)              0\n",
            "River Discharge (m³/s)    0\n",
            "Water Level (m)           0\n",
            "Elevation (m)             0\n",
            "Land Cover                0\n",
            "Soil Type                 0\n",
            "Population Density        0\n",
            "Infrastructure            0\n",
            "Historical Floods         0\n",
            "Flood Occurred            0\n",
            "dtype: int64\n"
          ]
        }
      ]
    }
  ]
}